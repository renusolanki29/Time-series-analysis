{
 "cells": [
  {
   "cell_type": "code",
   "execution_count": null,
   "id": "24cd9a38-36f1-4057-b7ee-11f8e3f993fc",
   "metadata": {},
   "outputs": [],
   "source": []
  }
 ],
 "metadata": {
  "kernelspec": {
   "display_name": "",
   "name": ""
  },
  "language_info": {
   "name": ""
  }
 },
 "nbformat": 4,
 "nbformat_minor": 5
}
